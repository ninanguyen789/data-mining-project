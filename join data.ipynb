{
 "cells": [
  {
   "cell_type": "code",
   "execution_count": 1,
   "metadata": {},
   "outputs": [],
   "source": [
    "#import library\n",
    "import pandas as pd\n",
    "import numpy as np\n",
    "import os\n",
    "import datetime\n"
   ]
  },
  {
   "cell_type": "code",
   "execution_count": 2,
   "metadata": {},
   "outputs": [],
   "source": [
    "#set input parameter\n",
    "folder = '/Users/home/Documents/SPRING 21/CIS 9660 R Thur/project'"
   ]
  },
  {
   "cell_type": "code",
   "execution_count": 3,
   "metadata": {},
   "outputs": [],
   "source": [
    "a = pd.read_excel('/Users/home/Documents/SPRING 21/CIS 9660 R Thur/project/siacc-en-us.xlsx')\n",
    "b = pd.read_excel(\"/Users/home/Documents/SPRING 21/CIS 9660 R Thur/project/qnacc-en-us.xlsx\")\n",
    "c = pd.read_excel('/Users/home/Documents/SPRING 21/CIS 9660 R Thur/project/bkacc-en-us.xlsx')\n",
    "d = pd.read_excel('/Users/home/Documents/SPRING 21/CIS 9660 R Thur/project/bxacc-en-us.xlsx')\n",
    "f = pd.read_excel('/Users/home/Documents/SPRING 21/CIS 9660 R Thur/project/mnacc-en-us.xlsx')\n",
    "\n",
    "dataframe = [a,b,c,d,f]\n",
    "\n",
    "join = pd.concat(dataframe)\n",
    "join.to_excel('/Users/home/Documents/SPRING 21/CIS 9660 R Thur/project/newdata.xlsx', index = False)"
   ]
  },
  {
   "cell_type": "code",
   "execution_count": null,
   "metadata": {},
   "outputs": [],
   "source": []
  }
 ],
 "metadata": {
  "kernelspec": {
   "display_name": "Python 3",
   "language": "python",
   "name": "python3"
  },
  "language_info": {
   "codemirror_mode": {
    "name": "ipython",
    "version": 3
   },
   "file_extension": ".py",
   "mimetype": "text/x-python",
   "name": "python",
   "nbconvert_exporter": "python",
   "pygments_lexer": "ipython3",
   "version": "3.8.5"
  }
 },
 "nbformat": 4,
 "nbformat_minor": 4
}
